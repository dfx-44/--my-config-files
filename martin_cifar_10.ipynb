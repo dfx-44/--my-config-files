{
  "nbformat": 4,
  "nbformat_minor": 0,
  "metadata": {
    "colab": {
      "name": "martin_cifar_10.ipynb",
      "provenance": [],
      "collapsed_sections": [],
      "authorship_tag": "ABX9TyNoTiZ36TG/s4M1xIS+l3a+",
      "include_colab_link": true
    },
    "kernelspec": {
      "name": "python3",
      "display_name": "Python 3"
    },
    "language_info": {
      "name": "python"
    },
    "gpuClass": "standard",
    "widgets": {
      "application/vnd.jupyter.widget-state+json": {
        "7a8376dc21524cfe9375fc2fed046ba2": {
          "model_module": "@jupyter-widgets/controls",
          "model_name": "HBoxModel",
          "model_module_version": "1.5.0",
          "state": {
            "_dom_classes": [],
            "_model_module": "@jupyter-widgets/controls",
            "_model_module_version": "1.5.0",
            "_model_name": "HBoxModel",
            "_view_count": null,
            "_view_module": "@jupyter-widgets/controls",
            "_view_module_version": "1.5.0",
            "_view_name": "HBoxView",
            "box_style": "",
            "children": [
              "IPY_MODEL_7544b5e52de74737986044e4287f81f2",
              "IPY_MODEL_d85cb56b5d4b4123a785045c25c0d344",
              "IPY_MODEL_e29eb97784be401d920bbcd4213aed37"
            ],
            "layout": "IPY_MODEL_b3acbac556c64294bb50b4cffd1406aa"
          }
        },
        "7544b5e52de74737986044e4287f81f2": {
          "model_module": "@jupyter-widgets/controls",
          "model_name": "HTMLModel",
          "model_module_version": "1.5.0",
          "state": {
            "_dom_classes": [],
            "_model_module": "@jupyter-widgets/controls",
            "_model_module_version": "1.5.0",
            "_model_name": "HTMLModel",
            "_view_count": null,
            "_view_module": "@jupyter-widgets/controls",
            "_view_module_version": "1.5.0",
            "_view_name": "HTMLView",
            "description": "",
            "description_tooltip": null,
            "layout": "IPY_MODEL_b1747f922d2d4f53983e406f7760a653",
            "placeholder": "​",
            "style": "IPY_MODEL_141e79a52b084b43b3049f233fd5435b",
            "value": "100%"
          }
        },
        "d85cb56b5d4b4123a785045c25c0d344": {
          "model_module": "@jupyter-widgets/controls",
          "model_name": "FloatProgressModel",
          "model_module_version": "1.5.0",
          "state": {
            "_dom_classes": [],
            "_model_module": "@jupyter-widgets/controls",
            "_model_module_version": "1.5.0",
            "_model_name": "FloatProgressModel",
            "_view_count": null,
            "_view_module": "@jupyter-widgets/controls",
            "_view_module_version": "1.5.0",
            "_view_name": "ProgressView",
            "bar_style": "success",
            "description": "",
            "description_tooltip": null,
            "layout": "IPY_MODEL_45263478383c40cbbf4c8a0038498d93",
            "max": 170498071,
            "min": 0,
            "orientation": "horizontal",
            "style": "IPY_MODEL_2bc46e4dce1c4832b08ab9294e79fb96",
            "value": 170498071
          }
        },
        "e29eb97784be401d920bbcd4213aed37": {
          "model_module": "@jupyter-widgets/controls",
          "model_name": "HTMLModel",
          "model_module_version": "1.5.0",
          "state": {
            "_dom_classes": [],
            "_model_module": "@jupyter-widgets/controls",
            "_model_module_version": "1.5.0",
            "_model_name": "HTMLModel",
            "_view_count": null,
            "_view_module": "@jupyter-widgets/controls",
            "_view_module_version": "1.5.0",
            "_view_name": "HTMLView",
            "description": "",
            "description_tooltip": null,
            "layout": "IPY_MODEL_f4e9043083cd4440bcb63a4feadb6067",
            "placeholder": "​",
            "style": "IPY_MODEL_70d7f10c8d474b0bad43d37c978821b1",
            "value": " 170498071/170498071 [00:01&lt;00:00, 114568941.47it/s]"
          }
        },
        "b3acbac556c64294bb50b4cffd1406aa": {
          "model_module": "@jupyter-widgets/base",
          "model_name": "LayoutModel",
          "model_module_version": "1.2.0",
          "state": {
            "_model_module": "@jupyter-widgets/base",
            "_model_module_version": "1.2.0",
            "_model_name": "LayoutModel",
            "_view_count": null,
            "_view_module": "@jupyter-widgets/base",
            "_view_module_version": "1.2.0",
            "_view_name": "LayoutView",
            "align_content": null,
            "align_items": null,
            "align_self": null,
            "border": null,
            "bottom": null,
            "display": null,
            "flex": null,
            "flex_flow": null,
            "grid_area": null,
            "grid_auto_columns": null,
            "grid_auto_flow": null,
            "grid_auto_rows": null,
            "grid_column": null,
            "grid_gap": null,
            "grid_row": null,
            "grid_template_areas": null,
            "grid_template_columns": null,
            "grid_template_rows": null,
            "height": null,
            "justify_content": null,
            "justify_items": null,
            "left": null,
            "margin": null,
            "max_height": null,
            "max_width": null,
            "min_height": null,
            "min_width": null,
            "object_fit": null,
            "object_position": null,
            "order": null,
            "overflow": null,
            "overflow_x": null,
            "overflow_y": null,
            "padding": null,
            "right": null,
            "top": null,
            "visibility": null,
            "width": null
          }
        },
        "b1747f922d2d4f53983e406f7760a653": {
          "model_module": "@jupyter-widgets/base",
          "model_name": "LayoutModel",
          "model_module_version": "1.2.0",
          "state": {
            "_model_module": "@jupyter-widgets/base",
            "_model_module_version": "1.2.0",
            "_model_name": "LayoutModel",
            "_view_count": null,
            "_view_module": "@jupyter-widgets/base",
            "_view_module_version": "1.2.0",
            "_view_name": "LayoutView",
            "align_content": null,
            "align_items": null,
            "align_self": null,
            "border": null,
            "bottom": null,
            "display": null,
            "flex": null,
            "flex_flow": null,
            "grid_area": null,
            "grid_auto_columns": null,
            "grid_auto_flow": null,
            "grid_auto_rows": null,
            "grid_column": null,
            "grid_gap": null,
            "grid_row": null,
            "grid_template_areas": null,
            "grid_template_columns": null,
            "grid_template_rows": null,
            "height": null,
            "justify_content": null,
            "justify_items": null,
            "left": null,
            "margin": null,
            "max_height": null,
            "max_width": null,
            "min_height": null,
            "min_width": null,
            "object_fit": null,
            "object_position": null,
            "order": null,
            "overflow": null,
            "overflow_x": null,
            "overflow_y": null,
            "padding": null,
            "right": null,
            "top": null,
            "visibility": null,
            "width": null
          }
        },
        "141e79a52b084b43b3049f233fd5435b": {
          "model_module": "@jupyter-widgets/controls",
          "model_name": "DescriptionStyleModel",
          "model_module_version": "1.5.0",
          "state": {
            "_model_module": "@jupyter-widgets/controls",
            "_model_module_version": "1.5.0",
            "_model_name": "DescriptionStyleModel",
            "_view_count": null,
            "_view_module": "@jupyter-widgets/base",
            "_view_module_version": "1.2.0",
            "_view_name": "StyleView",
            "description_width": ""
          }
        },
        "45263478383c40cbbf4c8a0038498d93": {
          "model_module": "@jupyter-widgets/base",
          "model_name": "LayoutModel",
          "model_module_version": "1.2.0",
          "state": {
            "_model_module": "@jupyter-widgets/base",
            "_model_module_version": "1.2.0",
            "_model_name": "LayoutModel",
            "_view_count": null,
            "_view_module": "@jupyter-widgets/base",
            "_view_module_version": "1.2.0",
            "_view_name": "LayoutView",
            "align_content": null,
            "align_items": null,
            "align_self": null,
            "border": null,
            "bottom": null,
            "display": null,
            "flex": null,
            "flex_flow": null,
            "grid_area": null,
            "grid_auto_columns": null,
            "grid_auto_flow": null,
            "grid_auto_rows": null,
            "grid_column": null,
            "grid_gap": null,
            "grid_row": null,
            "grid_template_areas": null,
            "grid_template_columns": null,
            "grid_template_rows": null,
            "height": null,
            "justify_content": null,
            "justify_items": null,
            "left": null,
            "margin": null,
            "max_height": null,
            "max_width": null,
            "min_height": null,
            "min_width": null,
            "object_fit": null,
            "object_position": null,
            "order": null,
            "overflow": null,
            "overflow_x": null,
            "overflow_y": null,
            "padding": null,
            "right": null,
            "top": null,
            "visibility": null,
            "width": null
          }
        },
        "2bc46e4dce1c4832b08ab9294e79fb96": {
          "model_module": "@jupyter-widgets/controls",
          "model_name": "ProgressStyleModel",
          "model_module_version": "1.5.0",
          "state": {
            "_model_module": "@jupyter-widgets/controls",
            "_model_module_version": "1.5.0",
            "_model_name": "ProgressStyleModel",
            "_view_count": null,
            "_view_module": "@jupyter-widgets/base",
            "_view_module_version": "1.2.0",
            "_view_name": "StyleView",
            "bar_color": null,
            "description_width": ""
          }
        },
        "f4e9043083cd4440bcb63a4feadb6067": {
          "model_module": "@jupyter-widgets/base",
          "model_name": "LayoutModel",
          "model_module_version": "1.2.0",
          "state": {
            "_model_module": "@jupyter-widgets/base",
            "_model_module_version": "1.2.0",
            "_model_name": "LayoutModel",
            "_view_count": null,
            "_view_module": "@jupyter-widgets/base",
            "_view_module_version": "1.2.0",
            "_view_name": "LayoutView",
            "align_content": null,
            "align_items": null,
            "align_self": null,
            "border": null,
            "bottom": null,
            "display": null,
            "flex": null,
            "flex_flow": null,
            "grid_area": null,
            "grid_auto_columns": null,
            "grid_auto_flow": null,
            "grid_auto_rows": null,
            "grid_column": null,
            "grid_gap": null,
            "grid_row": null,
            "grid_template_areas": null,
            "grid_template_columns": null,
            "grid_template_rows": null,
            "height": null,
            "justify_content": null,
            "justify_items": null,
            "left": null,
            "margin": null,
            "max_height": null,
            "max_width": null,
            "min_height": null,
            "min_width": null,
            "object_fit": null,
            "object_position": null,
            "order": null,
            "overflow": null,
            "overflow_x": null,
            "overflow_y": null,
            "padding": null,
            "right": null,
            "top": null,
            "visibility": null,
            "width": null
          }
        },
        "70d7f10c8d474b0bad43d37c978821b1": {
          "model_module": "@jupyter-widgets/controls",
          "model_name": "DescriptionStyleModel",
          "model_module_version": "1.5.0",
          "state": {
            "_model_module": "@jupyter-widgets/controls",
            "_model_module_version": "1.5.0",
            "_model_name": "DescriptionStyleModel",
            "_view_count": null,
            "_view_module": "@jupyter-widgets/base",
            "_view_module_version": "1.2.0",
            "_view_name": "StyleView",
            "description_width": ""
          }
        }
      }
    },
    "accelerator": "GPU"
  },
  "cells": [
    {
      "cell_type": "markdown",
      "metadata": {
        "id": "view-in-github",
        "colab_type": "text"
      },
      "source": [
        "<a href=\"https://colab.research.google.com/github/dfx-44/--my-config-files/blob/branch/martin_cifar_10.ipynb\" target=\"_parent\"><img src=\"https://colab.research.google.com/assets/colab-badge.svg\" alt=\"Open In Colab\"/></a>"
      ]
    },
    {
      "cell_type": "code",
      "execution_count": null,
      "metadata": {
        "id": "RmeC8d8LuyYQ"
      },
      "outputs": [],
      "source": [
        "import torch\n",
        "import torch.functional as F\n",
        "\n",
        "import torch\n",
        "from torchvision import datasets\n",
        "import torchvision.transforms as transforms\n",
        "\n",
        "from torch.nn import functional as F\n",
        "\n",
        "\n",
        "\n",
        "device = (\"cuda\" if torch.cuda.is_available() else \"cpu\")"
      ]
    },
    {
      "cell_type": "code",
      "source": [
        "transform = transforms.Compose(\n",
        "    [transforms.ToTensor(),\n",
        "     transforms.Normalize((0.5,0.5,0.5),(0.5,0.5,0.5))])\n",
        "\n",
        "\n",
        "# traning set download\n",
        "train_set = datasets.CIFAR10(root='./data',download=True,transform=transform,train=True)\n",
        "\n",
        "# test set download\n",
        "test_set = datasets.CIFAR10(root='./data',download=True,transform=transform,train=False)\n",
        "\n"
      ],
      "metadata": {
        "colab": {
          "base_uri": "https://localhost:8080/",
          "height": 101,
          "referenced_widgets": [
            "7a8376dc21524cfe9375fc2fed046ba2",
            "7544b5e52de74737986044e4287f81f2",
            "d85cb56b5d4b4123a785045c25c0d344",
            "e29eb97784be401d920bbcd4213aed37",
            "b3acbac556c64294bb50b4cffd1406aa",
            "b1747f922d2d4f53983e406f7760a653",
            "141e79a52b084b43b3049f233fd5435b",
            "45263478383c40cbbf4c8a0038498d93",
            "2bc46e4dce1c4832b08ab9294e79fb96",
            "f4e9043083cd4440bcb63a4feadb6067",
            "70d7f10c8d474b0bad43d37c978821b1"
          ]
        },
        "id": "mMqVkCY_vDJs",
        "outputId": "5da37a01-78a5-4512-a4a7-68632c5e8099"
      },
      "execution_count": null,
      "outputs": [
        {
          "output_type": "stream",
          "name": "stdout",
          "text": [
            "Downloading https://www.cs.toronto.edu/~kriz/cifar-10-python.tar.gz to ./data/cifar-10-python.tar.gz\n"
          ]
        },
        {
          "output_type": "display_data",
          "data": {
            "text/plain": [
              "  0%|          | 0/170498071 [00:00<?, ?it/s]"
            ],
            "application/vnd.jupyter.widget-view+json": {
              "version_major": 2,
              "version_minor": 0,
              "model_id": "7a8376dc21524cfe9375fc2fed046ba2"
            }
          },
          "metadata": {}
        },
        {
          "output_type": "stream",
          "name": "stdout",
          "text": [
            "Extracting ./data/cifar-10-python.tar.gz to ./data\n",
            "Files already downloaded and verified\n"
          ]
        }
      ]
    },
    {
      "cell_type": "code",
      "source": [
        "trainloader = torch.utils.data.DataLoader(train_set,batch_size=4,shuffle=True,num_workers=2)\n",
        "\n",
        "validloader = torch.utils.data.DataLoader(test_set,batch_size=4,shuffle=False,num_workers=2)"
      ],
      "metadata": {
        "id": "asF6AvFUwajc"
      },
      "execution_count": null,
      "outputs": []
    },
    {
      "cell_type": "code",
      "source": [
        "print(\"the shape of the images is: \",test_set[0][0].shape)"
      ],
      "metadata": {
        "colab": {
          "base_uri": "https://localhost:8080/"
        },
        "id": "IqBVMuJ3CVHI",
        "outputId": "c2b14aff-7fb9-4d37-a5a2-44258d77dde6"
      },
      "execution_count": null,
      "outputs": [
        {
          "output_type": "stream",
          "name": "stdout",
          "text": [
            "the shape of the images is:  torch.Size([3, 32, 32])\n"
          ]
        }
      ]
    },
    {
      "cell_type": "code",
      "source": [
        "from torch.nn.modules.container import Sequential\n",
        "import torch.nn as nn\n",
        "\n",
        "class Net(nn.Module):\n",
        "    def __init__(self):\n",
        "        super(Net, self).__init__()\n",
        "\n",
        "        # first conv layers\n",
        "        self.network  = nn.Sequential( \n",
        "\n",
        "        # TODO: make it with 6 conv layers along   with relu and max_p and use batchnorm2d\n",
        "        # and three linear layers on the end and do a flatten before pass to linear layers\n",
        "\n",
        "            #  first layer\n",
        "            nn.Conv2d(3, 32, 3,padding=1,stride=1),\n",
        "            nn.ReLU(),\n",
        "            nn.MaxPool2d(2, 2),\n",
        "            nn.BatchNorm2d(32),\n",
        "\n",
        "            # second layer\n",
        "            nn.Conv2d(32, 64, 3,padding=1,stride=1),\n",
        "            nn.ReLU(),\n",
        "            nn.MaxPool2d(2, 2) ,\n",
        "            nn.BatchNorm2d(64),\n",
        "\n",
        "\n",
        "            # third layer\n",
        "            nn.Conv2d(64, 70, 3,padding=1,stride=1),\n",
        "            nn.ReLU(),\n",
        "            nn.MaxPool2d(2, 2) ,\n",
        "            nn.BatchNorm2d(70),\n",
        "\n",
        "            # fourth layer\n",
        "            nn.Conv2d(70,16, 3,padding=1,stride=1),\n",
        "            nn.ReLU(),\n",
        "            nn.MaxPool2d(2, 2),\n",
        "            nn.BatchNorm2d(16),\n",
        "\n",
        "        # flatten goes here: \n",
        "            nn.Flatten(),\n",
        "\n",
        "            # fifth layer \n",
        "            nn.Linear(64,50),\n",
        "            nn.Linear(50, 10)\n",
        "        \n",
        "            )\n",
        "    \n",
        "    # it's the forward function that defines the network structure\n",
        "    # we're accepting only a single input in here, but if you want,\n",
        "    # feel free to use more\n",
        "    def forward(self, x):\n",
        "\n",
        "        x = self.network(x)\n",
        "\n",
        "        # in your model definition you can go full crazy and use arbitrary\n",
        "        # python code to define your model structure\n",
        "        # all these are perfectly legal, and will be handled correctly\n",
        "        # by autograd:\n",
        "        # if x.gt(0) > x.numel() / 2:\n",
        "        #      ...\n",
        "        #\n",
        "        # you can even do a loop and reuse the same module inside it\n",
        "        # modules no longer hold ephemeral state, so you can use them\n",
        "        # multiple times during your forward pass\n",
        "        # while x.norm(2) < 10:\n",
        "        #    x = self.conv1(x)\n",
        "\n",
        "        return x \n",
        "\n",
        "model = Net()"
      ],
      "metadata": {
        "id": "BO4xg6MBgtvk"
      },
      "execution_count": null,
      "outputs": []
    },
    {
      "cell_type": "code",
      "source": [
        "\n",
        "if torch.cuda.is_available():\n",
        "    model = model.cuda()"
      ],
      "metadata": {
        "id": "H34xsKcpzud8"
      },
      "execution_count": null,
      "outputs": []
    },
    {
      "cell_type": "code",
      "source": [
        "optimizer = torch.optim.SGD(model.parameters(), lr=0.001)\n",
        "epochs = 20\n",
        "train_loss, val_loss = [], []\n",
        "accuracy_total_train, accuracy_total_val = [], []\n",
        "criterion = nn.CrossEntropyLoss()\n",
        "for epoch in range(epochs):\n",
        "   \n",
        "    total_train_loss = 0\n",
        "    total_val_loss = 0\n",
        "\n",
        "    model.train()\n",
        "    \n",
        "    total = 0\n",
        "    # training our model\n",
        "    for idx, (image, label) in enumerate(trainloader):\n",
        "            \n",
        "        image, label = image.to(device), label.to(device)\n",
        "\n",
        "        optimizer.zero_grad()\n",
        "\n",
        "        pred = model(image)\n",
        "\n",
        "        loss = criterion(pred, label)\n",
        "        total_train_loss += loss.item()\n",
        "\n",
        "        loss.backward()\n",
        "        optimizer.step()\n",
        "\n",
        "        pred = torch.nn.functional.softmax(pred, dim=1)\n",
        "        for i, p in enumerate(pred):\n",
        "            if label[i] == torch.max(p.data, 0)[1]:\n",
        "                total = total + 1\n",
        "                \n",
        "    accuracy_train = total / len(train_set)\n",
        "    accuracy_total_train.append(accuracy_train)\n",
        "\n",
        "    total_train_loss = total_train_loss / (idx + 1)\n",
        "    train_loss.append(total_train_loss)\n",
        "    \n",
        "    # validating our model\n",
        "    model.eval()\n",
        "    total = 0\n",
        "    for idx, (image, label) in enumerate(validloader):\n",
        "        image, label = image.cuda(), label.cuda()\n",
        "        pred = model(image)\n",
        "        loss = criterion(pred, label)\n",
        "        total_val_loss += loss.item()\n",
        "\n",
        "        pred = torch.nn.functional.softmax(pred, dim=1)\n",
        "        for i, p in enumerate(pred):\n",
        "            if label[i] == torch.max(p.data, 0)[1]:\n",
        "                total = total + 1\n",
        "\n",
        "    accuracy_val = total / len(test_set)\n",
        "    accuracy_total_val.append(accuracy_val)\n",
        "\n",
        "    total_val_loss = total_val_loss / (idx + 1)\n",
        "    val_loss.append(total_val_loss)\n",
        "\n",
        "    print(\"Epoch: {}/{}  \".format(epoch, epochs),\n",
        "        \"Training loss: {:.4f}  \".format(total_train_loss),\n",
        "        \"Testing loss: {:.4f}  \".format(total_val_loss),\n",
        "        \"Train accuracy: {:.4f}  \".format(accuracy_train),\n",
        "        \"Test accuracy: {:.4f}  \".format(accuracy_val))\n",
        "\n",
        "\n"
      ],
      "metadata": {
        "id": "jxyH74vmDxfo",
        "colab": {
          "base_uri": "https://localhost:8080/"
        },
        "outputId": "3155878c-376c-4636-b037-f8d31ca73302"
      },
      "execution_count": null,
      "outputs": [
        {
          "output_type": "stream",
          "name": "stdout",
          "text": [
            "Epoch: 0/20   Training loss: 1.5187   Testing loss: 1.2016   Train accuracy: 0.4622   Test accuracy: 0.5684  \n",
            "Epoch: 1/20   Training loss: 1.1305   Testing loss: 1.0368   Train accuracy: 0.6025   Test accuracy: 0.6392  \n",
            "Epoch: 2/20   Training loss: 0.9895   Testing loss: 0.9856   Train accuracy: 0.6527   Test accuracy: 0.6592  \n",
            "Epoch: 3/20   Training loss: 0.8950   Testing loss: 0.9243   Train accuracy: 0.6873   Test accuracy: 0.6738  \n",
            "Epoch: 4/20   Training loss: 0.8244   Testing loss: 0.8645   Train accuracy: 0.7134   Test accuracy: 0.7041  \n",
            "Epoch: 5/20   Training loss: 0.7689   Testing loss: 0.8563   Train accuracy: 0.7322   Test accuracy: 0.7037  \n",
            "Epoch: 6/20   Training loss: 0.7263   Testing loss: 0.8291   Train accuracy: 0.7462   Test accuracy: 0.7129  \n",
            "Epoch: 7/20   Training loss: 0.6871   Testing loss: 0.8201   Train accuracy: 0.7598   Test accuracy: 0.7174  \n",
            "Epoch: 8/20   Training loss: 0.6533   Testing loss: 0.8103   Train accuracy: 0.7706   Test accuracy: 0.7239  \n",
            "Epoch: 9/20   Training loss: 0.6133   Testing loss: 0.8113   Train accuracy: 0.7853   Test accuracy: 0.7223  \n",
            "Epoch: 10/20   Training loss: 0.5848   Testing loss: 0.8348   Train accuracy: 0.7958   Test accuracy: 0.7182  \n",
            "Epoch: 11/20   Training loss: 0.5594   Testing loss: 0.8314   Train accuracy: 0.8037   Test accuracy: 0.7206  \n",
            "Epoch: 12/20   Training loss: 0.5304   Testing loss: 0.8605   Train accuracy: 0.8138   Test accuracy: 0.7198  \n",
            "Epoch: 13/20   Training loss: 0.5134   Testing loss: 0.8570   Train accuracy: 0.8187   Test accuracy: 0.7230  \n",
            "Epoch: 14/20   Training loss: 0.4900   Testing loss: 0.8437   Train accuracy: 0.8279   Test accuracy: 0.7261  \n",
            "Epoch: 15/20   Training loss: 0.4703   Testing loss: 0.8474   Train accuracy: 0.8319   Test accuracy: 0.7301  \n",
            "Epoch: 16/20   Training loss: 0.4502   Testing loss: 0.8705   Train accuracy: 0.8412   Test accuracy: 0.7206  \n",
            "Epoch: 17/20   Training loss: 0.4343   Testing loss: 0.8549   Train accuracy: 0.8459   Test accuracy: 0.7295  \n",
            "Epoch: 18/20   Training loss: 0.4208   Testing loss: 0.8921   Train accuracy: 0.8514   Test accuracy: 0.7250  \n",
            "Epoch: 19/20   Training loss: 0.4017   Testing loss: 0.9050   Train accuracy: 0.8578   Test accuracy: 0.7282  \n"
          ]
        }
      ]
    },
    {
      "cell_type": "code",
      "source": [
        ""
      ],
      "metadata": {
        "id": "pj71Rrc_Kzx4"
      },
      "execution_count": null,
      "outputs": []
    }
  ]
}